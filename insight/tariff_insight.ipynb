{
 "cells": [
  {
   "cell_type": "code",
   "execution_count": 6,
   "metadata": {},
   "outputs": [],
   "source": [
    "import yaml\n",
    "import polars as pl\n",
    "import glob"
   ]
  },
  {
   "cell_type": "code",
   "execution_count": null,
   "metadata": {},
   "outputs": [],
   "source": [
    "def normalize_yaml(yaml_str: str) -> dict:\n",
    "    return yaml.dump(yaml.load(yaml_str), sort_keys=False)"
   ]
  },
  {
   "cell_type": "code",
   "execution_count": 46,
   "metadata": {},
   "outputs": [
    {
     "data": {
      "text/plain": [
       "[{'navn': 'Høylast', 'timer': '6-21', 'pris': 24.96}]"
      ]
     },
     "execution_count": 46,
     "metadata": {},
     "output_type": "execute_result"
    }
   ],
   "source": [
    "tariffs = glob.glob(\"../tariffer/*.yml\")\n",
    "#df = pl.DataFrame()\n",
    "\n",
    "for tariff in tariffs[10:11]:\n",
    "    with open(tariff, \"r\") as f:\n",
    "        data = yaml.safe_load(f)\n",
    "\n",
    "    normalized_data = {\n",
    "        \"netteier\": data[\"netteier\"],\n",
    "        \"gln\": data[\"gln\"],\n",
    "        \"sist_oppdatert\": data[\"sist_oppdatert\"],\n",
    "    }\n",
    "\n",
    "tariffer = data.get(\"tariffer\", {})\n",
    "# energiledd = tariffer.get(\"energiledd\", {})\n",
    "# unntak = energiledd.get(\"unntak\", {})\n",
    "tariffer[0].get(\"energiledd\", {}).get(\"unntak\", {})"
   ]
  }
 ],
 "metadata": {
  "kernelspec": {
   "display_name": "venv",
   "language": "python",
   "name": "python3"
  },
  "language_info": {
   "codemirror_mode": {
    "name": "ipython",
    "version": 3
   },
   "file_extension": ".py",
   "mimetype": "text/x-python",
   "name": "python",
   "nbconvert_exporter": "python",
   "pygments_lexer": "ipython3",
   "version": "3.10.12"
  }
 },
 "nbformat": 4,
 "nbformat_minor": 2
}
